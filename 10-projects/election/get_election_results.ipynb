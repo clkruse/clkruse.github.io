{
 "cells": [
  {
   "cell_type": "code",
   "execution_count": null,
   "metadata": {},
   "outputs": [],
   "source": [
    "import geopandas as gpd\n",
    "from geopy.geocoders import Nominatim\n",
    "import pandas as pd"
   ]
  },
  {
   "cell_type": "code",
   "execution_count": null,
   "metadata": {},
   "outputs": [],
   "source": [
    "zip_to_fips = pd.read_csv('zip-to-fips.csv')\n",
    "fips_center = pd.read_csv('fips-county-center.csv', dtype={'fips_code': str})\n",
    "fips_center.head()"
   ]
  },
  {
   "cell_type": "code",
   "execution_count": null,
   "metadata": {},
   "outputs": [],
   "source": [
    "wf = gpd.read_file('wf.geojson')\n",
    "print(len(wf), \"Whole Foods Stores\")\n",
    "dg = gpd.read_file('dg.geojson')\n",
    "print(len(dg), \"Dollar General Stores\")\n",
    "dg.head()"
   ]
  },
  {
   "cell_type": "code",
   "execution_count": null,
   "metadata": {},
   "outputs": [],
   "source": [
    "import numpy as np\n",
    "def get_fips(lon, lat):\n",
    "    # find point closest to the input coordinates\n",
    "    distances = np.sqrt((fips_center['lng'] - lon)**2 + (fips_center['lat'] - lat)**2)\n",
    "    closest = fips_center.iloc[distances.idxmin()]\n",
    "    return closest['fips_code']\n"
   ]
  },
  {
   "cell_type": "code",
   "execution_count": null,
   "metadata": {},
   "outputs": [],
   "source": [
    "wf['fips'] = wf.apply(lambda row: get_fips(row['geometry'].x, row['geometry'].y), axis=1)\n",
    "dg['fips'] = dg.apply(lambda row: get_fips(row['geometry'].x, row['geometry'].y), axis=1)"
   ]
  },
  {
   "cell_type": "code",
   "execution_count": null,
   "metadata": {},
   "outputs": [],
   "source": [
    "import json\n",
    "with open('president_results.json') as f:\n",
    "    data = json.load(f)\n",
    "    #print(data['data'].keys())\n",
    "state_results = pd.DataFrame(data['data']['races'])\n"
   ]
  },
  {
   "cell_type": "code",
   "execution_count": null,
   "metadata": {},
   "outputs": [],
   "source": [
    "# create a dictionary with key of 'fips' and 'results'\n",
    "fips_results = {}\n",
    "for i in range(len(state_results)):\n",
    "    counties = state_results['counties'][i]\n",
    "    for county in counties:\n",
    "        fips = county['fips']\n",
    "        results = county['results']\n",
    "        fips_results[fips] = results\n"
   ]
  },
  {
   "cell_type": "code",
   "execution_count": null,
   "metadata": {},
   "outputs": [],
   "source": [
    "wf_results = gpd.GeoDataFrame(geometry=wf['geometry'], data=wf['fips'])\n",
    "wf_results['biden'] = wf_results.apply(lambda row: fips_results.get(row['fips'], {})['bidenj'], axis=1)\n",
    "wf_results['trump'] = wf_results.apply(lambda row: fips_results.get(row['fips'], {})['trumpd'], axis=1)\n",
    "wf_results['winner'] = wf_results.apply(lambda row: 'biden' if row['biden'] > row['trump'] else 'trump', axis=1)\n",
    "wf_results['biden_percent'] = wf_results['biden'] / (wf_results['biden'] + wf_results['trump'])\n",
    "wf_results['trump_percent'] = wf_results['trump'] / (wf_results['biden'] + wf_results['trump'])\n",
    "wf_results\n",
    "\n",
    "dg_results = gpd.GeoDataFrame(geometry=dg['geometry'], data=dg['fips'])\n",
    "dg_results['biden'] = dg_results.apply(lambda row: fips_results.get(row['fips'], {})['bidenj'], axis=1)\n",
    "dg_results['trump'] = dg_results.apply(lambda row: fips_results.get(row['fips'], {})['trumpd'], axis=1)\n",
    "dg_results['winner'] = dg_results.apply(lambda row: 'biden' if row['biden'] > row['trump'] else 'trump', axis=1)\n",
    "dg_results['biden_percent'] = dg_results['biden'] / (dg_results['biden'] + dg_results['trump'])\n",
    "dg_results['trump_percent'] = dg_results['trump'] / (dg_results['biden'] + dg_results['trump'])\n",
    "dg_results"
   ]
  },
  {
   "cell_type": "code",
   "execution_count": null,
   "metadata": {},
   "outputs": [],
   "source": [
    "# write fips_results to a file\n",
    "with open('election_results_by_fips.json', 'w') as f:\n",
    "    json.dump(fips_results, f)"
   ]
  },
  {
   "cell_type": "code",
   "execution_count": null,
   "metadata": {},
   "outputs": [],
   "source": [
    "# what fraction of WF stores are in counties that voted for Biden?\n",
    "print(wf_results['winner'].value_counts(normalize=True))\n",
    "\n",
    "# what fraction of DG stores are in counties that voted for Biden?\n",
    "print(dg_results['winner'].value_counts(normalize=True))"
   ]
  },
  {
   "cell_type": "code",
   "execution_count": null,
   "metadata": {},
   "outputs": [],
   "source": [
    "# get results for each whole foods\n",
    "for fips in wf['fips']:\n",
    "    try:\n",
    "        print(fips_results[str(fips)])\n",
    "    except:\n",
    "        print(\"No results for\", fips)\n"
   ]
  },
  {
   "cell_type": "code",
   "execution_count": null,
   "metadata": {},
   "outputs": [],
   "source": [
    "# print all keys and values for the first entry\n",
    "for k, v in results.iloc[0].items():\n",
    "    print(k, v)"
   ]
  },
  {
   "cell_type": "code",
   "execution_count": null,
   "metadata": {},
   "outputs": [],
   "source": [
    "import overpy\n",
    "\n",
    "# Define the query area\n",
    "area = \"[out:json];(node['name'~'Whole Foods'][shop=yes];>;>;);out body;\"\n",
    "\n",
    "# Create the Overpass API object\n",
    "api = overpy.Overpass()\n",
    "\n",
    "# Run the query\n",
    "result = api.query(area)\n",
    "\n",
    "# Extract the Whole Foods locations\n",
    "whole_foods_locations = []\n",
    "for node in result.nodes:\n",
    "  if node.tags.get(\"shop\") == \"yes\" and node.tags.get(\"name\").lower().startswith(\"whole foods\"):\n",
    "    whole_foods_locations.append({\n",
    "      \"name\": node.tags.get(\"name\"),\n",
    "      \"latitude\": node.lat,\n",
    "      \"longitude\": node.lon\n",
    "    })\n",
    "\n",
    "# Print the locations\n",
    "for location in whole_foods_locations:\n",
    "  print(f\"Name: {location['name']}, Latitude: {location['latitude']}, Longitude: {location['longitude']}\")\n"
   ]
  },
  {
   "cell_type": "code",
   "execution_count": null,
   "metadata": {},
   "outputs": [],
   "source": [
    "!pip install overpass\n"
   ]
  },
  {
   "cell_type": "code",
   "execution_count": null,
   "metadata": {},
   "outputs": [],
   "source": [
    "import overpy\n",
    "\n",
    "\n",
    "def get_locations(store_name):\n",
    "    # Define the bounding box coordinates for the mainland US\n",
    "    bbox = (24, -128, 50, -66.0)\n",
    "\n",
    "    # Convert the bounding box coordinates to Overpass API format\n",
    "    bbox_str = ','.join(map(str, bbox))\n",
    "\n",
    "    # Define the Overpass query\n",
    "    query = '''\n",
    "    [out:json];\n",
    "    node[\"name\"=\"{store_name}\"]({bbox});\n",
    "    out;\n",
    "    '''.format(bbox=bbox_str, store_name=store_name)\n",
    "    print(query)\n",
    "    # Create Overpass API object\n",
    "    api = overpy.Overpass()\n",
    "\n",
    "    # Send the query to Overpass API\n",
    "    result = api.query(query)\n",
    "\n",
    "    # Extract the locations\n",
    "    locations = []\n",
    "    for node in result.nodes:\n",
    "        locations.append([float(node.lon), float(node.lat)])\n",
    "    return locations"
   ]
  },
  {
   "cell_type": "code",
   "execution_count": null,
   "metadata": {},
   "outputs": [],
   "source": [
    "test = get_locations('Whole Foods Market')"
   ]
  },
  {
   "cell_type": "code",
   "execution_count": null,
   "metadata": {},
   "outputs": [],
   "source": [
    "test"
   ]
  },
  {
   "cell_type": "code",
   "execution_count": null,
   "metadata": {},
   "outputs": [],
   "source": []
  }
 ],
 "metadata": {
  "kernelspec": {
   "display_name": "sat",
   "language": "python",
   "name": "python3"
  },
  "language_info": {
   "codemirror_mode": {
    "name": "ipython",
    "version": 3
   },
   "file_extension": ".py",
   "mimetype": "text/x-python",
   "name": "python",
   "nbconvert_exporter": "python",
   "pygments_lexer": "ipython3",
   "version": "3.10.0"
  }
 },
 "nbformat": 4,
 "nbformat_minor": 2
}
